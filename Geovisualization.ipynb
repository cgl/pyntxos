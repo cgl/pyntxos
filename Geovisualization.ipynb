{
 "cells": [
  {
   "cell_type": "code",
   "execution_count": 1,
   "metadata": {},
   "outputs": [
    {
     "data": {
      "application/javascript": [
       "\n",
       "        setTimeout(function() {\n",
       "            var nbb_cell_id = 1;\n",
       "            var nbb_formatted_code = \"%load_ext nb_black\\n\\nimport folium\";\n",
       "            var nbb_cells = Jupyter.notebook.get_cells();\n",
       "            for (var i = 0; i < nbb_cells.length; ++i) {\n",
       "                if (nbb_cells[i].input_prompt_number == nbb_cell_id) {\n",
       "                    nbb_cells[i].set_text(nbb_formatted_code);\n",
       "                    break;\n",
       "                }\n",
       "            }\n",
       "        }, 500);\n",
       "        "
      ],
      "text/plain": [
       "<IPython.core.display.Javascript object>"
      ]
     },
     "metadata": {},
     "output_type": "display_data"
    }
   ],
   "source": [
    "%load_ext nb_black\n",
    "\n",
    "import folium"
   ]
  },
  {
   "cell_type": "code",
   "execution_count": 2,
   "metadata": {},
   "outputs": [
    {
     "data": {
      "application/javascript": [
       "\n",
       "        setTimeout(function() {\n",
       "            var nbb_cell_id = 2;\n",
       "            var nbb_formatted_code = \"data = [\\n    {\\n        \\\"name\\\": \\\"Argotia\\\",\\n        \\\"latitude\\\": 43.2590929,\\n        \\\"longitude\\\": -2.9244257,\\n        \\\"address\\\": \\\"Plaza Nueva, 48005 Bilbao, Vizcaya, Spain\\\",\\n    },\\n    {\\n        \\\"name\\\": \\\"Sorginzulo\\\",\\n        \\\"latitude\\\": 43.259387,\\n        \\\"longitude\\\": -2.9233905,\\n        \\\"address\\\": \\\"Plaza Nueva, 12, 48005 Bilbao, BI, Spain\\\",\\n    },\\n]\";\n",
       "            var nbb_cells = Jupyter.notebook.get_cells();\n",
       "            for (var i = 0; i < nbb_cells.length; ++i) {\n",
       "                if (nbb_cells[i].input_prompt_number == nbb_cell_id) {\n",
       "                    nbb_cells[i].set_text(nbb_formatted_code);\n",
       "                    break;\n",
       "                }\n",
       "            }\n",
       "        }, 500);\n",
       "        "
      ],
      "text/plain": [
       "<IPython.core.display.Javascript object>"
      ]
     },
     "metadata": {},
     "output_type": "display_data"
    }
   ],
   "source": [
    "data = [\n",
    "    {\n",
    "        \"name\": \"Argotia\",\n",
    "        \"latitude\": 43.2590929,\n",
    "        \"longitude\": -2.9244257,\n",
    "        \"address\": \"Plaza Nueva, 48005 Bilbao, Vizcaya, Spain\",\n",
    "    },\n",
    "    {\n",
    "        \"name\": \"Sorginzulo\",\n",
    "        \"latitude\": 43.259387,\n",
    "        \"longitude\": -2.9233905,\n",
    "        \"address\": \"Plaza Nueva, 12, 48005 Bilbao, BI, Spain\",\n",
    "    },\n",
    "]"
   ]
  },
  {
   "cell_type": "code",
   "execution_count": 3,
   "metadata": {},
   "outputs": [
    {
     "data": {
      "text/html": [
       "<div style=\"width:100%;\"><div style=\"position:relative;width:100%;height:0;padding-bottom:60%;\"><iframe src=\"data:text/html;charset=utf-8;base64,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\" style=\"position:absolute;width:100%;height:100%;left:0;top:0;border:none !important;\" allowfullscreen webkitallowfullscreen mozallowfullscreen></iframe></div></div>"
      ],
      "text/plain": [
       "<folium.folium.Map at 0x7f59054faa20>"
      ]
     },
     "execution_count": 3,
     "metadata": {},
     "output_type": "execute_result"
    },
    {
     "data": {
      "application/javascript": [
       "\n",
       "        setTimeout(function() {\n",
       "            var nbb_cell_id = 3;\n",
       "            var nbb_formatted_code = \"m = folium.Map(location=[43.2590929, -2.9244257], zoom_start=20)\\n\\ntooltip = \\\"Click me!\\\"\\n\\nfor i in data:\\n    folium.Marker(\\n        [i[\\\"latitude\\\"], i[\\\"longitude\\\"]],\\n        popup=f\\\"<i>{i['name']}</i>\\\\n{i['address']}\\\",\\n        tooltip=tooltip,\\n    ).add_to(m)\\n\\nfor n in range(len(data) - 1):\\n    folium.ColorLine(\\n        [\\n            (data[n][\\\"latitude\\\"], data[n][\\\"longitude\\\"]),\\n            (data[n + 1][\\\"latitude\\\"], data[n + 1][\\\"longitude\\\"]),\\n        ],\\n        [1],\\n        weight=3,\\n        colormap=[\\\"green\\\", \\\"red\\\"],\\n    ).add_to(m)\\n\\nm\";\n",
       "            var nbb_cells = Jupyter.notebook.get_cells();\n",
       "            for (var i = 0; i < nbb_cells.length; ++i) {\n",
       "                if (nbb_cells[i].input_prompt_number == nbb_cell_id) {\n",
       "                    nbb_cells[i].set_text(nbb_formatted_code);\n",
       "                    break;\n",
       "                }\n",
       "            }\n",
       "        }, 500);\n",
       "        "
      ],
      "text/plain": [
       "<IPython.core.display.Javascript object>"
      ]
     },
     "metadata": {},
     "output_type": "display_data"
    }
   ],
   "source": [
    "m = folium.Map(location=[43.2590929, -2.9244257], zoom_start=20)\n",
    "\n",
    "tooltip = \"Click me!\"\n",
    "\n",
    "for i in data:\n",
    "    folium.Marker(\n",
    "        [i[\"latitude\"], i[\"longitude\"]],\n",
    "        popup=f\"<i>{i['name']}</i>\\n{i['address']}\",\n",
    "        tooltip=tooltip,\n",
    "    ).add_to(m)\n",
    "\n",
    "for n in range(len(data) - 1):\n",
    "    folium.ColorLine(\n",
    "        [\n",
    "            (data[n][\"latitude\"], data[n][\"longitude\"]),\n",
    "            (data[n + 1][\"latitude\"], data[n + 1][\"longitude\"]),\n",
    "        ],\n",
    "        [1],\n",
    "        weight=3,\n",
    "        colormap=[\"green\", \"red\"],\n",
    "    ).add_to(m)\n",
    "\n",
    "m"
   ]
  },
  {
   "cell_type": "code",
   "execution_count": null,
   "metadata": {},
   "outputs": [],
   "source": []
  }
 ],
 "metadata": {
  "kernelspec": {
   "display_name": "Python 3",
   "language": "python",
   "name": "python3"
  },
  "language_info": {
   "codemirror_mode": {
    "name": "ipython",
    "version": 3
   },
   "file_extension": ".py",
   "mimetype": "text/x-python",
   "name": "python",
   "nbconvert_exporter": "python",
   "pygments_lexer": "ipython3",
   "version": "3.7.3"
  }
 },
 "nbformat": 4,
 "nbformat_minor": 2
}
